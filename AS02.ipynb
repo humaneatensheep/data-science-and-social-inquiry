{
 "cells": [
  {
   "cell_type": "markdown",
   "metadata": {
    "id": "iiMwv5fb01PH"
   },
   "source": [
    "# Q1 Pre-Processing Youbike data"
   ]
  },
  {
   "cell_type": "code",
   "execution_count": 2,
   "metadata": {
    "executionInfo": {
     "elapsed": 1986,
     "status": "ok",
     "timestamp": 1634995000288,
     "user": {
      "displayName": "姚慶旺",
      "photoUrl": "https://lh3.googleusercontent.com/a-/AOh14Ggt2VkwiCNUXioTW75iXUHd6ljcuSehmkTV3GJD4Q=s64",
      "userId": "17554065563682151160"
     },
     "user_tz": -480
    },
    "id": "jviuL0hgrrZI"
   },
   "outputs": [],
   "source": [
    "# Getting youtube data\n",
    "import requests\n",
    "import json\n",
    "response = requests.get('https://tcgbusfs.blob.core.windows.net/blobyoubike/YouBikeTP.gz')\n",
    "data = json.loads(response.text)"
   ]
  },
  {
   "cell_type": "markdown",
   "metadata": {
    "id": "9jc47vviq7Hf"
   },
   "source": [
    "## Q1_Code: Using site name as dict id \n",
    "\n",
    "1. 原本的Youbike data除了第一層有`retCode`和`retVal`外，在`retVal`所對應到的資料中，是以`sno`也就是駐車站編號作為dict的key。我希望把整筆資料轉個型態，仍保持dict of dict，但最外層的dictionary裡面的每個key是站台「中文名稱」，並以`site_dict`來作為新的dictionary的變數名稱。\n",
    "\n",
    "2. 除此之外，請參考下列資料，嘗試移除幾個儲存英文站名、英文區域和英文地址的keys與values，有`['sareaen', 'snaen', 'aren']`。參考資料：[Removing multiple keys from a dictionary safely (stackoverflow)](https://stackoverflow.com/questions/8995611/removing-multiple-keys-from-a-dictionary-safely)"
   ]
  },
  {
   "cell_type": "code",
   "execution_count": 3,
   "metadata": {
    "colab": {
     "base_uri": "https://localhost:8080/"
    },
    "executionInfo": {
     "elapsed": 301,
     "status": "ok",
     "timestamp": 1634996443517,
     "user": {
      "displayName": "姚慶旺",
      "photoUrl": "https://lh3.googleusercontent.com/a-/AOh14Ggt2VkwiCNUXioTW75iXUHd6ljcuSehmkTV3GJD4Q=s64",
      "userId": "17554065563682151160"
     },
     "user_tz": -480
    },
    "id": "CmW91nT5tZcF",
    "outputId": "194c7128-304e-4647-8896-f78720bf6031"
   },
   "outputs": [
    {
     "name": "stdout",
     "output_type": "stream",
     "text": [
      "dict_keys(['retCode', 'retVal'])\n"
     ]
    }
   ],
   "source": [
    "site_dict = {}  # Using this as new dict name\n",
    "en_keys = ['sareaen', 'snaen', 'aren']\n",
    "\n",
    "# Your code should go here\n",
    "print(data.keys())\n",
    "for k, v in data[\"retVal\"].items():\n",
    "  site_dict[v['sna']] = v\n",
    "  \n",
    "# print(site_dict)\n",
    "# print(len(site_dict))\n",
    "\n",
    "# print(site_dict.keys())\n",
    "for k1, v1 in site_dict.items():\n",
    "  for k in en_keys:\n",
    "    v1.pop(k, None)\n",
    "\n",
    "# print(site_dict)\n",
    "# print(len(site_dict))"
   ]
  },
  {
   "cell_type": "markdown",
   "metadata": {
    "id": "2f_A9HOZtja7"
   },
   "source": [
    "## Q1_Verification: Print out the key of the outermost dictionary\n",
    "\n",
    "執行以下程式碼以驗證你的程式撰寫是否成功。你不能更動以下Cell的Code，僅能在上面的Cell撰寫程式，使得以下的Code列印出來的資料與預期相同。助教會看這個Cell的結果來判斷你是否達到題目要求。\n",
    "\n",
    "預期結果如下：\n",
    "`['捷運市政府站(3號出口)', '捷運國父紀念館站(2號出口)', '台北市政府', '市民廣場', '興雅國中', '臺北南山廣場', '信義廣場(台北101)', '世貿三館', '松德站', '台北市災害應變中心']\n",
    "`"
   ]
  },
  {
   "cell_type": "code",
   "execution_count": 4,
   "metadata": {
    "colab": {
     "base_uri": "https://localhost:8080/"
    },
    "executionInfo": {
     "elapsed": 328,
     "status": "ok",
     "timestamp": 1634996469350,
     "user": {
      "displayName": "姚慶旺",
      "photoUrl": "https://lh3.googleusercontent.com/a-/AOh14Ggt2VkwiCNUXioTW75iXUHd6ljcuSehmkTV3GJD4Q=s64",
      "userId": "17554065563682151160"
     },
     "user_tz": -480
    },
    "id": "gJR-kyDkt_U4",
    "outputId": "be465bc3-956b-43fe-e351-3a6204655611"
   },
   "outputs": [
    {
     "name": "stdout",
     "output_type": "stream",
     "text": [
      "['捷運市政府站(3號出口)', '捷運國父紀念館站(2號出口)', '台北市政府', '市民廣場', '興雅國中', '臺北南山廣場', '信義廣場(台北101)', '世貿三館', '松德站', '台北市災害應變中心']\n"
     ]
    }
   ],
   "source": [
    "print(list(site_dict.keys())[:10])"
   ]
  },
  {
   "cell_type": "markdown",
   "metadata": {
    "id": "P3rG0rxSuRnR"
   },
   "source": [
    "## Q1_Verification: Print out keys of site's data\n",
    "\n",
    "執行以下程式碼以驗證你的程式撰寫是否成功。你不能更動以下Cell的Code，僅能在上面的Cell撰寫程式，使得以下的Code列印出來的資料與預期相同。預期結果如下：`dict_keys(['sno', 'sna', 'tot', 'sbi', 'sarea', 'mday', 'lat', 'lng', 'ar', 'bemp', 'act'])\n",
    "`"
   ]
  },
  {
   "cell_type": "code",
   "execution_count": 5,
   "metadata": {
    "colab": {
     "base_uri": "https://localhost:8080/"
    },
    "executionInfo": {
     "elapsed": 313,
     "status": "ok",
     "timestamp": 1634996450049,
     "user": {
      "displayName": "姚慶旺",
      "photoUrl": "https://lh3.googleusercontent.com/a-/AOh14Ggt2VkwiCNUXioTW75iXUHd6ljcuSehmkTV3GJD4Q=s64",
      "userId": "17554065563682151160"
     },
     "user_tz": -480
    },
    "id": "iGToCqINuR0R",
    "outputId": "e85add31-d2b1-4c0f-eb93-e28321f2b88d"
   },
   "outputs": [
    {
     "data": {
      "text/plain": [
       "dict_keys(['sno', 'sna', 'tot', 'sbi', 'sarea', 'mday', 'lat', 'lng', 'ar', 'bemp', 'act'])"
      ]
     },
     "execution_count": 5,
     "metadata": {},
     "output_type": "execute_result"
    }
   ],
   "source": [
    "site_dict['捷運市政府站(3號出口)'].keys()"
   ]
  },
  {
   "cell_type": "markdown",
   "metadata": {
    "id": "KDJT6w7nro03"
   },
   "source": [
    "# Q2 Calculating the fullness of each youbike site\n",
    "\n",
    "\n",
    "## Q2_1 : Inserting a new indicator fullness for each site\n",
    "\n",
    "建立一個新的指標`perc = sbi/tot`，為現有單車數(`sbi`)除以總單車格數（`tot`）作為滿站的比例，並希望在每個駐車站的資料中多一個key為`perc`來存放滿站比例。你可以接續上題作，或者回到原本撈回來的資料做。\n",
    "\n",
    "例如\n",
    "```\n",
    "{ '捷運市政府站(3號出口)':{\n",
    "    'sna': '捷運市政府站(3號出口)', \n",
    "    'sno': ...,\n",
    "    'tot': ...,\n",
    "    'sbi': ..., \n",
    "    'perc': ...,\n",
    "    ...},\n",
    "    ...\n",
    "}\n",
    "```"
   ]
  },
  {
   "cell_type": "code",
   "execution_count": 6,
   "metadata": {
    "colab": {
     "base_uri": "https://localhost:8080/"
    },
    "executionInfo": {
     "elapsed": 275,
     "status": "ok",
     "timestamp": 1634997028243,
     "user": {
      "displayName": "姚慶旺",
      "photoUrl": "https://lh3.googleusercontent.com/a-/AOh14Ggt2VkwiCNUXioTW75iXUHd6ljcuSehmkTV3GJD4Q=s64",
      "userId": "17554065563682151160"
     },
     "user_tz": -480
    },
    "id": "awYVPUw2yClq",
    "outputId": "007765b4-84b6-4084-874f-c69a159241c2"
   },
   "outputs": [
    {
     "name": "stdout",
     "output_type": "stream",
     "text": [
      "{'sno': '0001', 'sna': '捷運市政府站(3號出口)', 'tot': '180', 'sbi': '103', 'sarea': '信義區', 'mday': '20211023230727', 'lat': '25.0408578889', 'lng': '121.567904444', 'ar': '忠孝東路/松仁路(東南側)', 'bemp': '76', 'act': '1', 'perc': 0.5722222222222222}\n"
     ]
    }
   ],
   "source": [
    "# Your code should be here\n",
    "# print(site_dict['捷運市政府站(3號出口)'].keys())\n",
    "for k, v in site_dict.items():\n",
    "  p = int(v['sbi'])/int(v['tot'])\n",
    "  v['perc'] = p\n",
    "print(site_dict['捷運市政府站(3號出口)'])\n"
   ]
  },
  {
   "cell_type": "markdown",
   "metadata": {
    "id": "tnIdcj5zV2cN",
    "tags": []
   },
   "source": [
    "## Q2_1: Verification\n",
    "* 列印出任意10個站台的perc。必須同時列印出每個站台的sna, sbi, tot, perc\n",
    "* 請盡可能地印出類似下面的格式，以了解如何使用`.format()`或`%d`等來控制列印輸出格式。"
   ]
  },
  {
   "cell_type": "code",
   "execution_count": 7,
   "metadata": {
    "colab": {
     "base_uri": "https://localhost:8080/"
    },
    "executionInfo": {
     "elapsed": 316,
     "status": "ok",
     "timestamp": 1634999262948,
     "user": {
      "displayName": "姚慶旺",
      "photoUrl": "https://lh3.googleusercontent.com/a-/AOh14Ggt2VkwiCNUXioTW75iXUHd6ljcuSehmkTV3GJD4Q=s64",
      "userId": "17554065563682151160"
     },
     "user_tz": -480
    },
    "id": "0CyQXkkOV2cO",
    "outputId": "e311d39b-e510-489e-9cdf-e91580bd3ceb"
   },
   "outputs": [
    {
     "name": "stdout",
     "output_type": "stream",
     "text": [
      "捷運市政府站(3號出口)        \t180\t103\t0.57\n",
      "捷運國父紀念館站(2號出口)      \t48\t10\t0.21\n",
      "台北市政府               \t40\t19\t0.47\n",
      "市民廣場                \t60\t20\t0.33\n",
      "興雅國中                \t60\t0\t0.00\n",
      "臺北南山廣場              \t80\t2\t0.03\n",
      "信義廣場(台北101)         \t80\t30\t0.38\n",
      "世貿三館                \t60\t23\t0.38\n",
      "松德站                 \t40\t12\t0.30\n",
      "台北市災害應變中心           \t54\t44\t0.81\n"
     ]
    }
   ],
   "source": [
    "# Your code should be here\n",
    "i = 0\n",
    "for k, v in site_dict.items():\n",
    "  print(\"%-20s\\t%d\\t%d\\t%.2f\"%(v['sna'], int(v['tot']), int(v['sbi']), v['perc']))\n",
    "  i = i + 1\n",
    "  if i == 10:\n",
    "    break\n"
   ]
  },
  {
   "cell_type": "markdown",
   "metadata": {
    "id": "u_CLG0BIrqhk"
   },
   "source": [
    "## Q2_2 (Code + Output verification): 列印出`perc`(fullness)最高的站\n",
    "\n",
    "用`for-loop`和`if-else`找出`perc`(fullness)最高的駐車站，並印出其站名和`perc`數值，以及時間。<br>\n",
    "\n",
    "註：本題不可使用內建或者第三方的sorting函式。"
   ]
  },
  {
   "cell_type": "code",
   "execution_count": 8,
   "metadata": {
    "colab": {
     "base_uri": "https://localhost:8080/"
    },
    "executionInfo": {
     "elapsed": 322,
     "status": "ok",
     "timestamp": 1634998480478,
     "user": {
      "displayName": "姚慶旺",
      "photoUrl": "https://lh3.googleusercontent.com/a-/AOh14Ggt2VkwiCNUXioTW75iXUHd6ljcuSehmkTV3GJD4Q=s64",
      "userId": "17554065563682151160"
     },
     "user_tz": -480
    },
    "id": "cELbhh1myJLG",
    "outputId": "a3cdeedd-a0fd-4455-ac89-7a7dfef630f1"
   },
   "outputs": [
    {
     "name": "stdout",
     "output_type": "stream",
     "text": [
      "At 20211023230721, the highest perc is 1.000000 (Station: 豐年公園)\n"
     ]
    }
   ],
   "source": [
    "fullest_sna = \"\"\n",
    "fullest_perc = 0.0\n",
    "fullest_time = \"\"\n",
    "\n",
    "# Your code should be here\n",
    "for k, v in site_dict.items():\n",
    "  if v['perc'] > fullest_perc:\n",
    "    fullest_perc = v['perc']\n",
    "    fullest_sna = v['sna']\n",
    "    fullest_time = v['mday']\n",
    "\n",
    "\n",
    "\n",
    "print(\"At %s, the highest perc is %f (Station: %s)\"%(fullest_time, fullest_perc, fullest_sna))"
   ]
  },
  {
   "cell_type": "markdown",
   "metadata": {
    "id": "xJyWK69h44qu"
   },
   "source": [
    "## Q2_3 (Code + Output verification 2): Top 10\n",
    "\n",
    "用內建或第三方的sorting函式，將`perc`(fullness)按照full to empty排序，用for-loop列印出，`perc`最高的10個駐車站的`sna`、`perc`、`tot`、`sbi`(（請善用printing formation和`\\t`將之對齊排列好，但不用照高低順序）。"
   ]
  },
  {
   "cell_type": "code",
   "execution_count": 76,
   "metadata": {
    "colab": {
     "base_uri": "https://localhost:8080/"
    },
    "executionInfo": {
     "elapsed": 294,
     "status": "ok",
     "timestamp": 1634999943212,
     "user": {
      "displayName": "姚慶旺",
      "photoUrl": "https://lh3.googleusercontent.com/a-/AOh14Ggt2VkwiCNUXioTW75iXUHd6ljcuSehmkTV3GJD4Q=s64",
      "userId": "17554065563682151160"
     },
     "user_tz": -480
    },
    "id": "hMxtXfUR44yz",
    "outputId": "32421007-59dd-4de3-fea4-36910b7aed34"
   },
   "outputs": [
    {
     "name": "stdout",
     "output_type": "stream",
     "text": [
      "捷運公館站(2號出口)          \t0.80 \t30 \t24\n",
      "興安華城                 \t0.77 \t60 \t46\n",
      "仁愛延吉街口               \t0.85 \t34 \t29\n",
      "市民林森路口               \t0.73 \t30 \t22\n",
      "信義杭州路口(中華電信總公司)      \t0.74 \t42 \t31\n",
      "南京遼寧街口               \t0.77 \t26 \t20\n",
      "富台公園                 \t0.77 \t30 \t23\n",
      "新生公園                 \t0.73 \t26 \t19\n",
      "林森長春路口               \t0.75 \t28 \t21\n",
      "國立臺北大學(臺北校區)         \t0.84 \t32 \t27\n",
      "成德國中                 \t0.73 \t26 \t19\n"
     ]
    }
   ],
   "source": [
    "\n",
    "# Your code should be here\n",
    "perc_list = []\n",
    "for k, v in site_dict.items():\n",
    "  perc_list.append(v['perc'])\n",
    "\n",
    "perc_list = sorted(perc_list, reverse=True)\n",
    "# print(sorted(perc_list, reverse=True))\n",
    "for k, v in site_dict.items():\n",
    "  if v['perc'] >= perc_list[9]:\n",
    "    print(\"%-20s \\t%.2f \\t%s \\t%s\"%(v['sna'],v['perc'],v['tot'],v['sbi']))"
   ]
  },
  {
   "cell_type": "markdown",
   "metadata": {
    "id": "16wtfExiV2cQ"
   },
   "source": [
    "# Q3: Categorizing fullness\n",
    "\n",
    "當要建立回歸模型來預測腳踏車的滿站程度時，我們需要的可能是上述的`perc`來作為依變項Y；但我如果只是要仿照Youbike地圖，用顏色來標示出滿站程度時（如https://taipei.youbike.com.tw/station/map） ，就需要將`perc`按數值分區。"
   ]
  },
  {
   "cell_type": "markdown",
   "metadata": {
    "id": "_JWFYfTv6r9u"
   },
   "source": [
    "## Q3_2 (Code and Output Verification)\n",
    "\n",
    "設計if-else搭配for-loop來計算每個資料區間各有多少個腳踏車站台。一共分成以下幾個label。\n",
    "- full: perc = 1.0，\n",
    "- empty: perc = 0.0, \n",
    "- few: 0.0 < perc <0.3\n",
    "- general: 0.3 <= perc < 0.7\n",
    "- many: 0.7 <=  perc < 1.0\n",
    "請在每個站台的dictionary中新增一個key為label，然後用Counting來累計並**列印出**當時刻full, empty, few, general, many各有多少個站台。\n",
    "\n",
    "範例輸出（可能因為不同時間而數量不同）\n",
    "```\n",
    "few 173\n",
    "general 152\n",
    "empty 44\n",
    "many 30\n",
    "```"
   ]
  },
  {
   "cell_type": "code",
   "execution_count": 9,
   "metadata": {
    "colab": {
     "base_uri": "https://localhost:8080/"
    },
    "executionInfo": {
     "elapsed": 315,
     "status": "ok",
     "timestamp": 1635001037318,
     "user": {
      "displayName": "姚慶旺",
      "photoUrl": "https://lh3.googleusercontent.com/a-/AOh14Ggt2VkwiCNUXioTW75iXUHd6ljcuSehmkTV3GJD4Q=s64",
      "userId": "17554065563682151160"
     },
     "user_tz": -480
    },
    "id": "J7mNNErdV2cQ",
    "outputId": "29d5c056-8c76-4f9b-ca0d-4e9e0e811fad"
   },
   "outputs": [
    {
     "name": "stdout",
     "output_type": "stream",
     "text": [
      "general   226\n",
      "few   124\n",
      "empty   23\n",
      "many   25\n",
      "full   1\n"
     ]
    }
   ],
   "source": [
    "# Your code should be here\n",
    "for k, v in site_dict.items():\n",
    "  if v['perc'] == 0.0:\n",
    "    v['status'] = 'empty'\n",
    "  elif v['perc'] > 0.0 and v['perc'] < 0.3:\n",
    "    v['status'] = 'few'\n",
    "  elif v['perc'] >= 0.3 and v['perc'] < 0.7:\n",
    "    v['status'] = 'general'\n",
    "  elif v['perc'] >= 0.7 and v['perc'] < 1.0:\n",
    "    v['status'] = 'many'\n",
    "  elif v['perc'] == 1.0:\n",
    "    v['status'] = 'full'\n",
    "\n",
    "stat_dict = {}\n",
    "for k, v in site_dict.items():\n",
    "  if v['status'] not in stat_dict.keys():\n",
    "    stat_dict[v['status']] = 1\n",
    "  else:\n",
    "    stat_dict[v['status']] = stat_dict[v['status']] + 1\n",
    "  # print(v['sna'], v['perc'], v['status'])\n",
    "for k, v in stat_dict.items():\n",
    "  print(k,\" \",v)\n",
    "\n"
   ]
  },
  {
   "cell_type": "markdown",
   "metadata": {
    "id": "6U4ou8L7V2cR"
   },
   "source": [
    "# Q4_e 自然常數的泰勒展式\n",
    "* e ≈ 2.71828 18284 59045 23536\n",
    "<!-- * ![image.png](attachment:fd9f0b1b-d708-453b-b38a-5edc4d8a6a6b.png) -->"
   ]
  },
  {
   "cell_type": "code",
   "execution_count": 10,
   "metadata": {
    "colab": {
     "base_uri": "https://localhost:8080/"
    },
    "executionInfo": {
     "elapsed": 14,
     "status": "ok",
     "timestamp": 1634980250275,
     "user": {
      "displayName": "姚慶旺",
      "photoUrl": "https://lh3.googleusercontent.com/a-/AOh14Ggt2VkwiCNUXioTW75iXUHd6ljcuSehmkTV3GJD4Q=s64",
      "userId": "17554065563682151160"
     },
     "user_tz": -480
    },
    "id": "bclXEK96V2cR",
    "outputId": "b1ac602c-0853-4a9b-bd09-0399f37a8b90"
   },
   "outputs": [
    {
     "name": "stdout",
     "output_type": "stream",
     "text": [
      "2.7182818284590455\n"
     ]
    }
   ],
   "source": [
    "e = 1\n",
    "x = 1\n",
    "for i in range(1, 1000):\n",
    "    # Your code should be here\n",
    "    x = x/i\n",
    "    e = e+x\n",
    "    \n",
    "    \n",
    "    \n",
    "print(e)\n",
    "        "
   ]
  }
 ],
 "metadata": {
  "colab": {
   "collapsed_sections": [],
   "name": "AS02_list_dict_for_if.ipynb",
   "provenance": [],
   "toc_visible": true
  },
  "kernelspec": {
   "display_name": "Python 3 (ipykernel)",
   "language": "python",
   "name": "python3"
  },
  "language_info": {
   "codemirror_mode": {
    "name": "ipython",
    "version": 3
   },
   "file_extension": ".py",
   "mimetype": "text/x-python",
   "name": "python",
   "nbconvert_exporter": "python",
   "pygments_lexer": "ipython3",
   "version": "3.9.5"
  },
  "toc": {
   "base_numbering": 1,
   "nav_menu": {},
   "number_sections": true,
   "sideBar": true,
   "skip_h1_title": false,
   "title_cell": "Table of Contents",
   "title_sidebar": "Contents",
   "toc_cell": true,
   "toc_position": {},
   "toc_section_display": true,
   "toc_window_display": true
  }
 },
 "nbformat": 4,
 "nbformat_minor": 4
}
