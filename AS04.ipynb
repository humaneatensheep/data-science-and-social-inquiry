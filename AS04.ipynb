{
 "cells": [
  {
   "cell_type": "markdown",
   "metadata": {},
   "source": [
    "# Crawler 01: DCard\n",
    "- 設計爬蟲去爬取DCard任一版的文章，可以爬取熱門文章或最新文章均可。\n",
    "- 目標是爬取100則不重複的貼文\n",
    "- 必須用for-loop迴圈爬取，不得分開爬取多個不同的網址。\n",
    "- 重要提示: DCard的資料網址並沒有頁碼可以參考，但每一頁最後一筆資料的id，均為下一頁資料的網址的一部分。所以這題的for-loop並不是要算頁碼用的，單純只是讓程式多跑幾遍，每次都去取當頁資料的最後一筆id，來剪貼成下一頁資料的網址。\n",
    "- 注意，dcard的request會需要附加user-agent資訊。"
   ]
  },
  {
   "cell_type": "code",
   "execution_count": 81,
   "metadata": {},
   "outputs": [
    {
     "data": {
      "text/plain": [
       "list"
      ]
     },
     "execution_count": 81,
     "metadata": {},
     "output_type": "execute_result"
    }
   ],
   "source": [
    "# sample code of getting dcard data with user-agent info\n",
    "import requests\n",
    "import json\n",
    "url_dcard = \"https://www.dcard.tw/service/api/v2/forums/relationship/posts?popular=true&limit=30&before=237380340\"\n",
    "user_agent_dcard = \"Mozilla/5.0 (Windows NT 10.0; Win64; x64) AppleWebKit/537.36 (KHTML, like Gecko) Chrome/95.0.4638.69 Safari/537.36\"\n",
    "headers = {\n",
    "    'User-Agent': user_agent_dcard\n",
    "}\n",
    "data = requests.get(url_dcard, headers = headers).json()\n",
    "type(data)"
   ]
  },
  {
   "cell_type": "code",
   "execution_count": 82,
   "metadata": {},
   "outputs": [
    {
     "name": "stdout",
     "output_type": "stream",
     "text": [
      "30\n",
      "<class 'dict'>\n",
      "dict_keys(['id', 'title', 'excerpt', 'anonymousSchool', 'anonymousDepartment', 'pinned', 'forumId', 'replyId', 'createdAt', 'updatedAt', 'commentCount', 'likeCount', 'withNickname', 'tags', 'topics', 'meta', 'forumName', 'forumAlias', 'nsfw', 'gender', 'replyTitle', 'mediaMeta', 'reactions', 'hidden', 'customStyle', 'isSuspiciousAccount', 'isModerator', 'layout', 'spoilerAlert', 'isSelectedPost', 'enableNestedComment', 'totalCommentCount', 'withImages', 'withVideos', 'media', 'reportReasonText', 'supportedReactions', 'excerptComments', 'edited', 'postAvatar', 'activityAvatar', 'verifiedBadge', 'memberType'])\n",
      "237387791\n",
      "120\n"
     ]
    }
   ],
   "source": [
    "# Your code should be here\n",
    "# You can add more code cells below this\n",
    "length = 0\n",
    "all_data = []\n",
    "print(len(data))\n",
    "print(type(data[0]))\n",
    "print(data[0].keys())\n",
    "print(data[29]['id'])\n",
    "\n",
    "url_dcard = \"https://www.dcard.tw/service/api/v2/forums/relationship/posts?popular=true&limit=30&before=237380340\"\n",
    "for page in range(1, 10):\n",
    "    data = requests.get(url_dcard, headers = headers).json()\n",
    "    id_next = data[29]['id']\n",
    "    url_dcard = \"https://www.dcard.tw/service/api/v2/forums/relationship/posts?popular=true&limit=30&before=\" + str(id_next)\n",
    "    all_data.extend(data)\n",
    "    if len(all_data) > 100:\n",
    "        break\n",
    "    \n",
    "    \n",
    "print(len(all_data))\n",
    "\n",
    "\n"
   ]
  },
  {
   "cell_type": "markdown",
   "metadata": {},
   "source": [
    "## Output verification\n",
    "以下程式碼是為了檢測同學所交上了的作業是否確實抓到對的資料。通常會用以下幾種方式來確認。\n",
    "1. 確認資料筆數\n",
    "2. 找到資料中能夠作為identification的欄位，取`set()`來看看是否和抓到的資料筆數相同。"
   ]
  },
  {
   "cell_type": "markdown",
   "metadata": {},
   "source": [
    "### 1. Convert your list of dicts into a pandas DataFrame\n",
    "**MUST** using `df_dcard` as variable name of the pandas Dataframe"
   ]
  },
  {
   "cell_type": "code",
   "execution_count": 83,
   "metadata": {},
   "outputs": [],
   "source": [
    "## your code should be here\n",
    "import pandas as pd\n",
    "df_dcard = pd.DataFrame(all_data)\n",
    "\n",
    "# print(df_dcard.shape)\n",
    "## your code should be here\n",
    "# print(df_dcard.head())\n",
    "# print(len(set(df_dcard.title)))"
   ]
  },
  {
   "cell_type": "markdown",
   "metadata": {},
   "source": [
    "### 2. Print `df_dcard.shape`"
   ]
  },
  {
   "cell_type": "code",
   "execution_count": 84,
   "metadata": {},
   "outputs": [
    {
     "data": {
      "text/plain": [
       "(120, 46)"
      ]
     },
     "execution_count": 84,
     "metadata": {},
     "output_type": "execute_result"
    }
   ],
   "source": [
    "df_dcard.shape"
   ]
  },
  {
   "cell_type": "markdown",
   "metadata": {},
   "source": [
    "### 3. Print the number of unique id\n",
    "unique id的數量必須要100以上（包含100）"
   ]
  },
  {
   "cell_type": "code",
   "execution_count": 85,
   "metadata": {},
   "outputs": [
    {
     "name": "stdout",
     "output_type": "stream",
     "text": [
      "120\n"
     ]
    }
   ],
   "source": [
    "print(len(set(df_dcard.id)))"
   ]
  },
  {
   "cell_type": "code",
   "execution_count": 86,
   "metadata": {},
   "outputs": [
    {
     "name": "stdout",
     "output_type": "stream",
     "text": [
      "Variable           Type         Data/Info\n",
      "-----------------------------------------\n",
      "Data2              dict         n=3\n",
      "all_data           list         n=120\n",
      "all_data2          list         n=120\n",
      "data               list         n=30\n",
      "data2              dict         n=3\n",
      "df_dcard           DataFrame                id           <...>\\n[120 rows x 46 columns]\n",
      "headers            dict         n=1\n",
      "id_next            int          237383778\n",
      "json               module       <module 'json' from 'C:\\\\<...>\\lib\\\\json\\\\__init__.py'>\n",
      "length             int          0\n",
      "page               int          4\n",
      "pd                 module       <module 'pandas' from 'C:<...>es\\\\pandas\\\\__init__.py'>\n",
      "requests           module       <module 'requests' from '<...>\\\\requests\\\\__init__.py'>\n",
      "url_cnyer          str          https://api.cnyes.com/med<...>0&endAt=1636214399&page=4\n",
      "url_dcard          str          https://www.dcard.tw/serv<...>limit=30&before=237383778\n",
      "user_agent_dcard   str          Mozilla/5.0 (Windows NT 1<...>5.0.4638.69 Safari/537.36\n"
     ]
    }
   ],
   "source": [
    "%whos"
   ]
  },
  {
   "cell_type": "markdown",
   "metadata": {
    "tags": []
   },
   "source": [
    "# Crawler 02: cnyer\n",
    "- 設計爬蟲去爬取鉅亨網的新聞（https://news.cnyes.com/news/cat/headline?exp=a）。\n",
    "- 目標是爬取100則不重複的新聞\n",
    "- 必須用for-loop迴圈爬取，不得分開爬取多個不同的網址。"
   ]
  },
  {
   "cell_type": "code",
   "execution_count": 88,
   "metadata": {},
   "outputs": [
    {
     "name": "stdout",
     "output_type": "stream",
     "text": [
      "dict_keys(['items', 'message', 'statusCode'])\n",
      "<class 'dict'>\n",
      "dict_keys(['total', 'per_page', 'current_page', 'last_page', 'next_page_url', 'prev_page_url', 'from', 'to', 'data'])\n",
      "<class 'list'>\n",
      "30\n",
      "120\n"
     ]
    }
   ],
   "source": [
    "# YOUR CODE SHOULD BE HERE\n",
    "url_cnyer = \"https://api.cnyes.com/media/api/v1/newslist/category/headline?limit=30&startAt=1635264000&endAt=1636214399&page=2\"\n",
    "data2 = requests.get(url_cnyer).json()\n",
    "# type(data2)\n",
    "print(data2.keys())\n",
    "print(type(data2['items']))\n",
    "print(data2['items'].keys()) \n",
    "# 資料都存在data2['items']['data']中，資料型態為list\n",
    "print(type(data2['items']['data']))\n",
    "print(len(data2['items']['data']))\n",
    "\n",
    "all_data2 = []\n",
    "for page in range(1,10):\n",
    "    url_cnyer = \"https://api.cnyes.com/media/api/v1/newslist/category/headline?limit=30&startAt=1635264000&endAt=1636214399&page=\" + str(page)\n",
    "    Data2 = requests.get(url_cnyer).json()\n",
    "    all_data2.extend(Data2['items']['data'])\n",
    "    \n",
    "    if len(all_data2) > 100:\n",
    "        break\n",
    "        \n",
    "print(len(all_data2))"
   ]
  },
  {
   "cell_type": "markdown",
   "metadata": {},
   "source": [
    "## Output Verification"
   ]
  },
  {
   "cell_type": "markdown",
   "metadata": {},
   "source": [
    "### 1. Convert your list of dicts into a pandas DataFrame\n",
    "**MUST** using `df_cnyes` as variable name of the pandas Dataframe"
   ]
  },
  {
   "cell_type": "code",
   "execution_count": 93,
   "metadata": {},
   "outputs": [
    {
     "data": {
      "text/html": [
       "<div>\n",
       "<style scoped>\n",
       "    .dataframe tbody tr th:only-of-type {\n",
       "        vertical-align: middle;\n",
       "    }\n",
       "\n",
       "    .dataframe tbody tr th {\n",
       "        vertical-align: top;\n",
       "    }\n",
       "\n",
       "    .dataframe thead th {\n",
       "        text-align: right;\n",
       "    }\n",
       "</style>\n",
       "<table border=\"1\" class=\"dataframe\">\n",
       "  <thead>\n",
       "    <tr style=\"text-align: right;\">\n",
       "      <th></th>\n",
       "      <th>newsId</th>\n",
       "      <th>title</th>\n",
       "      <th>content</th>\n",
       "      <th>hasCoverPhoto</th>\n",
       "      <th>isIndex</th>\n",
       "      <th>summary</th>\n",
       "      <th>isCategoryHeadline</th>\n",
       "      <th>stock</th>\n",
       "      <th>video</th>\n",
       "      <th>payment</th>\n",
       "      <th>...</th>\n",
       "      <th>abTesting</th>\n",
       "      <th>categoryId</th>\n",
       "      <th>columnists</th>\n",
       "      <th>fundCategoryAbbr</th>\n",
       "      <th>etf</th>\n",
       "      <th>fbShare</th>\n",
       "      <th>fbComment</th>\n",
       "      <th>fbCommentPluginCount</th>\n",
       "      <th>market</th>\n",
       "      <th>categoryName</th>\n",
       "    </tr>\n",
       "  </thead>\n",
       "  <tbody>\n",
       "    <tr>\n",
       "      <th>0</th>\n",
       "      <td>4763441</td>\n",
       "      <td>派樂騰重挫35% Cramer：快點賣！這檔連法人也不打算海底撈魚</td>\n",
       "      <td>&amp;lt;p&amp;gt;《CNBC》知名財經節目主持人 Jim Cramer 週五 (5 日) 表...</td>\n",
       "      <td>1</td>\n",
       "      <td>1</td>\n",
       "      <td>《CNBC》知名財經節目主持人 Jim Cramer 週五 (5 日) 表示，派樂騰 (Pe...</td>\n",
       "      <td>1</td>\n",
       "      <td>[US-PTON]</td>\n",
       "      <td></td>\n",
       "      <td>0</td>\n",
       "      <td>...</td>\n",
       "      <td>None</td>\n",
       "      <td>831</td>\n",
       "      <td>None</td>\n",
       "      <td>[{'name': '美國中小型股', 'categoryAbbrId': 'C54'}]</td>\n",
       "      <td>[USS:IWM:STOCK]</td>\n",
       "      <td>0</td>\n",
       "      <td>0</td>\n",
       "      <td>0</td>\n",
       "      <td>[{'code': 'PTON', 'name': 'Peloton Interactive...</td>\n",
       "      <td>美股</td>\n",
       "    </tr>\n",
       "    <tr>\n",
       "      <th>1</th>\n",
       "      <td>4763490</td>\n",
       "      <td>〈劉揚偉談半導體〉美國缺相關基礎設施 當地設廠成本恐翻倍</td>\n",
       "      <td>&amp;lt;p&amp;gt;鴻海 (2317-TW) 董事長劉揚偉今 (6) 日表示，美國缺乏半導體基...</td>\n",
       "      <td>1</td>\n",
       "      <td>1</td>\n",
       "      <td>鴻海 (2317-TW) 董事長劉揚偉今 (6) 日表示，美國缺乏半導體基礎設施，設廠成本與...</td>\n",
       "      <td>1</td>\n",
       "      <td>[2317, 2330]</td>\n",
       "      <td></td>\n",
       "      <td>0</td>\n",
       "      <td>...</td>\n",
       "      <td>None</td>\n",
       "      <td>827</td>\n",
       "      <td>None</td>\n",
       "      <td>[]</td>\n",
       "      <td>[]</td>\n",
       "      <td>0</td>\n",
       "      <td>0</td>\n",
       "      <td>0</td>\n",
       "      <td>[{'code': '2317', 'name': '鴻海', 'symbol': 'TWS...</td>\n",
       "      <td>台股新聞</td>\n",
       "    </tr>\n",
       "    <tr>\n",
       "      <th>2</th>\n",
       "      <td>4763437</td>\n",
       "      <td>走出家門！旅遊 娛樂產業揚眉吐氣 疫情寵兒被打入冷宮</td>\n",
       "      <td>&amp;lt;p&amp;gt;旅遊產業高層正歡天喜地迎接後疫情復甦時期之際，疫情投資組合則開始失寵，光環...</td>\n",
       "      <td>1</td>\n",
       "      <td>1</td>\n",
       "      <td>旅遊產業高層正歡天喜地迎接後疫情復甦時期之際，疫情投資組合則開始失寵，光環盡失。</td>\n",
       "      <td>1</td>\n",
       "      <td>[US-EXPE, US-BKNG, US-ABNB, US-PFE, US-PTON, U...</td>\n",
       "      <td></td>\n",
       "      <td>0</td>\n",
       "      <td>...</td>\n",
       "      <td>None</td>\n",
       "      <td>831</td>\n",
       "      <td>None</td>\n",
       "      <td>[{'name': '美國中小型股', 'categoryAbbrId': 'C54'}, ...</td>\n",
       "      <td>[USS:IWM:STOCK, USS:DVY:STOCK]</td>\n",
       "      <td>0</td>\n",
       "      <td>0</td>\n",
       "      <td>0</td>\n",
       "      <td>[{'code': 'EXPE', 'name': '智遊天下網', 'symbol': '...</td>\n",
       "      <td>美股</td>\n",
       "    </tr>\n",
       "    <tr>\n",
       "      <th>3</th>\n",
       "      <td>4763486</td>\n",
       "      <td>現曙光！美眾院才剛放行基建案 1.75兆美元預算案已完成程序性投票</td>\n",
       "      <td>&amp;lt;p&amp;gt;美國眾議院周五 (5 日) 晚間通過 1 兆美元兩黨基建法案，預計下周拜登...</td>\n",
       "      <td>1</td>\n",
       "      <td>1</td>\n",
       "      <td>美國眾議院周五 (5 日) 晚間通過 1 兆美元兩黨基建法案，預計向周拜登將能簽署實施，而先...</td>\n",
       "      <td>1</td>\n",
       "      <td>[]</td>\n",
       "      <td></td>\n",
       "      <td>0</td>\n",
       "      <td>...</td>\n",
       "      <td>None</td>\n",
       "      <td>831</td>\n",
       "      <td>None</td>\n",
       "      <td>[{'name': '美國債券', 'categoryAbbrId': 'C55'}, {'...</td>\n",
       "      <td>[USS:SHV:STOCK, USS:IWM:STOCK, USS:DVY:STOCK]</td>\n",
       "      <td>0</td>\n",
       "      <td>0</td>\n",
       "      <td>0</td>\n",
       "      <td>NaN</td>\n",
       "      <td>美股</td>\n",
       "    </tr>\n",
       "    <tr>\n",
       "      <th>4</th>\n",
       "      <td>4763432</td>\n",
       "      <td>WSJ：兩大型私募公司傳開價逾100億美元收購資安軟體McAfee</td>\n",
       "      <td>&amp;lt;p&amp;gt;據華爾街日報 (WSJ) 周五 (5 日) 引述消息人士報導，資安軟體 M...</td>\n",
       "      <td>1</td>\n",
       "      <td>1</td>\n",
       "      <td>據華爾街日報 (WSJ) 周五 (5 日) 引述消息人士報導，資安軟體 McAfee (MC...</td>\n",
       "      <td>1</td>\n",
       "      <td>[US-MCFE, US-INTC, US-NLOK, US-INFA]</td>\n",
       "      <td></td>\n",
       "      <td>0</td>\n",
       "      <td>...</td>\n",
       "      <td>None</td>\n",
       "      <td>831</td>\n",
       "      <td>None</td>\n",
       "      <td>[]</td>\n",
       "      <td>[]</td>\n",
       "      <td>0</td>\n",
       "      <td>0</td>\n",
       "      <td>0</td>\n",
       "      <td>[{'code': 'MCFE', 'name': 'McAfee Corp - Class...</td>\n",
       "      <td>美股</td>\n",
       "    </tr>\n",
       "  </tbody>\n",
       "</table>\n",
       "<p>5 rows × 22 columns</p>\n",
       "</div>"
      ],
      "text/plain": [
       "    newsId                              title  \\\n",
       "0  4763441  派樂騰重挫35% Cramer：快點賣！這檔連法人也不打算海底撈魚   \n",
       "1  4763490       〈劉揚偉談半導體〉美國缺相關基礎設施 當地設廠成本恐翻倍   \n",
       "2  4763437         走出家門！旅遊 娛樂產業揚眉吐氣 疫情寵兒被打入冷宮   \n",
       "3  4763486  現曙光！美眾院才剛放行基建案 1.75兆美元預算案已完成程序性投票   \n",
       "4  4763432  WSJ：兩大型私募公司傳開價逾100億美元收購資安軟體McAfee   \n",
       "\n",
       "                                             content  hasCoverPhoto  isIndex  \\\n",
       "0  &lt;p&gt;《CNBC》知名財經節目主持人 Jim Cramer 週五 (5 日) 表...              1        1   \n",
       "1  &lt;p&gt;鴻海 (2317-TW) 董事長劉揚偉今 (6) 日表示，美國缺乏半導體基...              1        1   \n",
       "2  &lt;p&gt;旅遊產業高層正歡天喜地迎接後疫情復甦時期之際，疫情投資組合則開始失寵，光環...              1        1   \n",
       "3  &lt;p&gt;美國眾議院周五 (5 日) 晚間通過 1 兆美元兩黨基建法案，預計下周拜登...              1        1   \n",
       "4  &lt;p&gt;據華爾街日報 (WSJ) 周五 (5 日) 引述消息人士報導，資安軟體 M...              1        1   \n",
       "\n",
       "                                             summary  isCategoryHeadline  \\\n",
       "0  《CNBC》知名財經節目主持人 Jim Cramer 週五 (5 日) 表示，派樂騰 (Pe...                   1   \n",
       "1  鴻海 (2317-TW) 董事長劉揚偉今 (6) 日表示，美國缺乏半導體基礎設施，設廠成本與...                   1   \n",
       "2           旅遊產業高層正歡天喜地迎接後疫情復甦時期之際，疫情投資組合則開始失寵，光環盡失。                   1   \n",
       "3  美國眾議院周五 (5 日) 晚間通過 1 兆美元兩黨基建法案，預計向周拜登將能簽署實施，而先...                   1   \n",
       "4  據華爾街日報 (WSJ) 周五 (5 日) 引述消息人士報導，資安軟體 McAfee (MC...                   1   \n",
       "\n",
       "                                               stock video  payment  ...  \\\n",
       "0                                          [US-PTON]              0  ...   \n",
       "1                                       [2317, 2330]              0  ...   \n",
       "2  [US-EXPE, US-BKNG, US-ABNB, US-PFE, US-PTON, U...              0  ...   \n",
       "3                                                 []              0  ...   \n",
       "4               [US-MCFE, US-INTC, US-NLOK, US-INFA]              0  ...   \n",
       "\n",
       "   abTesting categoryId columnists  \\\n",
       "0       None        831       None   \n",
       "1       None        827       None   \n",
       "2       None        831       None   \n",
       "3       None        831       None   \n",
       "4       None        831       None   \n",
       "\n",
       "                                    fundCategoryAbbr  \\\n",
       "0      [{'name': '美國中小型股', 'categoryAbbrId': 'C54'}]   \n",
       "1                                                 []   \n",
       "2  [{'name': '美國中小型股', 'categoryAbbrId': 'C54'}, ...   \n",
       "3  [{'name': '美國債券', 'categoryAbbrId': 'C55'}, {'...   \n",
       "4                                                 []   \n",
       "\n",
       "                                             etf fbShare fbComment  \\\n",
       "0                                [USS:IWM:STOCK]       0         0   \n",
       "1                                             []       0         0   \n",
       "2                 [USS:IWM:STOCK, USS:DVY:STOCK]       0         0   \n",
       "3  [USS:SHV:STOCK, USS:IWM:STOCK, USS:DVY:STOCK]       0         0   \n",
       "4                                             []       0         0   \n",
       "\n",
       "   fbCommentPluginCount                                             market  \\\n",
       "0                     0  [{'code': 'PTON', 'name': 'Peloton Interactive...   \n",
       "1                     0  [{'code': '2317', 'name': '鴻海', 'symbol': 'TWS...   \n",
       "2                     0  [{'code': 'EXPE', 'name': '智遊天下網', 'symbol': '...   \n",
       "3                     0                                                NaN   \n",
       "4                     0  [{'code': 'MCFE', 'name': 'McAfee Corp - Class...   \n",
       "\n",
       "   categoryName  \n",
       "0            美股  \n",
       "1          台股新聞  \n",
       "2            美股  \n",
       "3            美股  \n",
       "4            美股  \n",
       "\n",
       "[5 rows x 22 columns]"
      ]
     },
     "execution_count": 93,
     "metadata": {},
     "output_type": "execute_result"
    }
   ],
   "source": [
    "# code should be here\n",
    "\n",
    "df_cnyes = pd.DataFrame(all_data2)\n",
    "\n",
    "df_cnyes.head()\n",
    "\n",
    "# code should be here"
   ]
  },
  {
   "cell_type": "markdown",
   "metadata": {},
   "source": [
    "### 2. Print `df_cnyes.shape()`"
   ]
  },
  {
   "cell_type": "code",
   "execution_count": 90,
   "metadata": {},
   "outputs": [
    {
     "data": {
      "text/plain": [
       "(120, 22)"
      ]
     },
     "execution_count": 90,
     "metadata": {},
     "output_type": "execute_result"
    }
   ],
   "source": [
    "df_cnyes.shape"
   ]
  },
  {
   "cell_type": "markdown",
   "metadata": {},
   "source": [
    "### 3. Print the number of unique id\n",
    "unique newsId的數量必須要100以上（包含100）"
   ]
  },
  {
   "cell_type": "code",
   "execution_count": 91,
   "metadata": {},
   "outputs": [
    {
     "name": "stdout",
     "output_type": "stream",
     "text": [
      "120\n"
     ]
    }
   ],
   "source": [
    "print(len(set(df_cnyes.newsId)))"
   ]
  }
 ],
 "metadata": {
  "kernelspec": {
   "display_name": "Python 3 (ipykernel)",
   "language": "python",
   "name": "python3"
  },
  "language_info": {
   "codemirror_mode": {
    "name": "ipython",
    "version": 3
   },
   "file_extension": ".py",
   "mimetype": "text/x-python",
   "name": "python",
   "nbconvert_exporter": "python",
   "pygments_lexer": "ipython3",
   "version": "3.8.12"
  }
 },
 "nbformat": 4,
 "nbformat_minor": 4
}
